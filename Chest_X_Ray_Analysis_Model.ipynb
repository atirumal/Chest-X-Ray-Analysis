{
  "nbformat": 4,
  "nbformat_minor": 0,
  "metadata": {
    "accelerator": "GPU",
    "colab": {
      "provenance": []
    },
    "kernelspec": {
      "display_name": "Python 3",
      "name": "python3"
    }
  },
  "cells": [
    {
      "cell_type": "code",
      "metadata": {
        "id": "sfaVRZ1Z3_3M"
      },
      "source": [
        "%matplotlib inline\n",
        "\n",
        "import sklearn.metrics\n",
        "import random\n",
        "import tensorflow as tf\n",
        "import matplotlib.pyplot as plt\n",
        "import os\n",
        "import io\n",
        "import glob\n",
        "import scipy.misc\n",
        "import numpy as np\n",
        "import pandas as pd\n",
        "from six import BytesIO\n",
        "from PIL import Image, ImageDraw, ImageFont\n",
        "import shutil\n",
        "from tensorflow.keras.applications.inception_v3 import InceptionV3\n",
        "from tensorflow.keras import layers\n",
        "from tensorflow.keras import Model\n",
        "import matplotlib\n",
        "from tensorflow.keras.optimizers import RMSprop\n",
        "import zipfile\n",
        "from tensorflow.keras.preprocessing.image import ImageDataGenerator\n",
        "import matplotlib.image as mpimg\n",
        "\n",
        "# Define learning rate\n",
        "LEARNING_RATE = 0.0001\n",
        "repo_url = 'https://github.com/adleberg/medical-ai'\n",
        "# Define image dimensions\n",
        "IMAGE_HEIGHT, IMAGE_WIDTH = 256, 256\n",
        "\n",
        "# Define a function to convert PIL Image to a NumPy array\n",
        "def load_image_into_numpy_array(image):\n",
        "    image = image.convert('RGB')\n",
        "    (im_width, im_height) = image.size\n",
        "    return np.array(image.getdata()).reshape(\n",
        "        (im_height, im_width, 3)).astype(np.uint8)\n",
        "\n",
        "\n",
        "%cd -q /content\n",
        "repo_dir_path = os.path.abspath(os.path.join('.', os.path.basename(repo_url)))\n",
        "!git clone {repo_url} --quiet\n",
        "%cd -q {repo_dir_path}\n",
        "!git pull -q"
      ],
      "execution_count": null,
      "outputs": []
    },
    {
      "cell_type": "markdown",
      "metadata": {
        "id": "MQTLUPzBEWj6"
      },
      "source": [
        "![Screen Shot 2020-11-08 at 1.14.35 PM.png](data:image/png;base64,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)\n",
        "\n",
        "Above are the labels we have available to us in this dataset."
      ]
    },
    {
      "cell_type": "code",
      "metadata": {
        "id": "E1RIh1j6A9m6"
      },
      "source": [
        "# Change this finding value to any of the 8 conditions listed above\n",
        "finding = \"cardiomegaly\"\n",
        "finding = finding.capitalize()"
      ],
      "execution_count": null,
      "outputs": []
    },
    {
      "cell_type": "code",
      "source": [
        "df = pd.read_csv(\"/content/medical-ai/labels.csv\")\n",
        "df.head()"
      ],
      "metadata": {
        "id": "w3DUYGd8nVA9"
      },
      "execution_count": null,
      "outputs": []
    },
    {
      "cell_type": "code",
      "metadata": {
        "id": "RbyXtTCvBFrN"
      },
      "source": [
        "positives = df.loc[df[\"label\"] == finding]\n",
        "negatives = df.loc[df[\"label\"] == \"No Finding\"]\n",
        "n = len(positives)\n",
        "print(n)"
      ],
      "execution_count": null,
      "outputs": []
    },
    {
      "cell_type": "code",
      "source": [
        "# Define the training and testing ratios\n",
        "TRAIN_RATIO = 0.8\n",
        "TEST_RATIO = 0.2\n",
        "n = len(positives)\n",
        "TRAIN_N = int(n*TRAIN_RATIO)\n",
        "TEST_N = int(n*TEST_RATIO)\n",
        "print(TRAIN_N, TEST_N)"
      ],
      "metadata": {
        "id": "s_WY9IbNUU_z"
      },
      "execution_count": null,
      "outputs": []
    },
    {
      "cell_type": "code",
      "source": [
        "# Concatenate the labels for training and testing data\n",
        "# Assuming you have two dataframes 'positives' and 'negatives' containing labels\n",
        "# Concatenate the first samples from 'positives' and 'negatives'\n",
        "train_labels = pd.concat([positives[:TRAIN_N], negatives[:TRAIN_N]])\n",
        "test_labels = pd.concat([positives[TRAIN_N:], negatives[TRAIN_N:n]])"
      ],
      "metadata": {
        "id": "PFbtUeDakgHH"
      },
      "execution_count": null,
      "outputs": []
    },
    {
      "cell_type": "markdown",
      "metadata": {
        "id": "nvkdXsWmXXNN"
      },
      "source": [
        "## Prepare the Data\n",
        "\n",
        "Sort the data into two folders: one with negative cases and one with positive cases."
      ]
    },
    {
      "cell_type": "code",
      "metadata": {
        "id": "BxQcTplih9Dw"
      },
      "source": [
        "# Define the root directory where you want to create subdirectories\n",
        "rootdir = \"/content/medical-ai/images/\"\n",
        "# Create directories for testing and training data, both for positive and negative cases\n",
        "os.makedirs(rootdir+finding+\"/test/positive\",  exist_ok=True)\n",
        "os.makedirs(rootdir+finding+\"/test/negative\",  exist_ok=True)\n",
        "os.makedirs(rootdir+finding+\"/train/positive\", exist_ok=True)\n",
        "os.makedirs(rootdir+finding+\"/train/negative\", exist_ok=True)"
      ],
      "execution_count": null,
      "outputs": []
    },
    {
      "cell_type": "code",
      "source": [
        "# Copy images to new directories for training purposes\n",
        "for idx, image in positives[:TRAIN_N].iterrows():\n",
        "  source = rootdir+image[\"filename\"]\n",
        "  dst = rootdir+finding+\"/train/positive/\"+image[\"filename\"]\n",
        "  shutil.copy(source, dst)\n",
        "\n",
        "for idx, image in positives[TRAIN_N:].iterrows():\n",
        "  source = rootdir+image[\"filename\"]\n",
        "  dst = rootdir+finding+\"/test/positive/\"+image[\"filename\"]\n",
        "  shutil.copy(source, dst)\n",
        "\n",
        "# Copy images to new directories for testing purposes\n",
        "for idx, image in negatives[:TRAIN_N].iterrows():\n",
        "  source = rootdir+image[\"filename\"]\n",
        "  dst = rootdir+finding+\"/train/negative/\"+image[\"filename\"]\n",
        "  shutil.copy(source, dst)\n",
        "\n",
        "for idx, image in negatives[TRAIN_N:n].iterrows():\n",
        "  source = rootdir+image[\"filename\"]\n",
        "  dst = rootdir+finding+\"/test/negative/\"+image[\"filename\"]\n",
        "  shutil.copy(source, dst)\n",
        "\n",
        "print(\"Done moving \"+str(n*2)+\" images to positive and negative folders.\")"
      ],
      "metadata": {
        "id": "MJwv_fWxvPmR"
      },
      "execution_count": null,
      "outputs": []
    },
    {
      "cell_type": "code",
      "metadata": {
        "id": "zhn86DLzTIus"
      },
      "source": [
        "# Load images into memory for visualization\n",
        "positive_imgs, negative_imgs = [], []\n",
        "IMAGE_HEIGHT, IMAGE_WIDTH = 256, 256\n",
        "\n",
        "# Load and resize the first 6 images from the positives dataset for visualization\n",
        "for idx, row in positives[:6].iterrows():\n",
        "  image_path = rootdir+row[\"filename\"]\n",
        "  image = Image.open(image_path).resize((IMAGE_WIDTH, IMAGE_HEIGHT))\n",
        "  positive_imgs.append(load_image_into_numpy_array(image))\n",
        "\n",
        "# Load and resize the first 6 images from the positives dataset for visualization\n",
        "for idx, row in negatives[:6].iterrows():\n",
        "  image_path = rootdir+row[\"filename\"]\n",
        "  image = Image.open(image_path).resize((IMAGE_WIDTH, IMAGE_HEIGHT))\n",
        "  negative_imgs.append(load_image_into_numpy_array(image))"
      ],
      "execution_count": null,
      "outputs": []
    },
    {
      "cell_type": "code",
      "source": [
        "# show six cases from the set with the specific finding\n",
        "for idx, img in enumerate(positive_imgs[:6]):\n",
        "  plt.subplot(2, 3, idx+1)\n",
        "  plt.title(finding)\n",
        "  plt.imshow(positive_imgs[idx])\n",
        "# Show the subplot with all positive images\n",
        "plt.show()\n",
        "\n",
        "# show six cases from the set without the specific finding\n",
        "for idx, img in enumerate(negative_imgs[:6]):\n",
        "  plt.subplot(2, 3, idx+1)\n",
        "  plt.title(\"No Findings\")\n",
        "  plt.imshow(negative_imgs[idx])\n",
        "# Show the subplot with all negative images\n",
        "plt.show()"
      ],
      "metadata": {
        "id": "OZnn7Zbbnb3e"
      },
      "execution_count": null,
      "outputs": []
    },
    {
      "cell_type": "markdown",
      "metadata": {
        "id": "dI5rmt4UBwXs"
      },
      "source": [
        "## Train the Model\n",
        "\n",
        "Use InceptionV3 to look at our images. This is a model that Google created to do image analysis."
      ]
    },
    {
      "cell_type": "code",
      "metadata": {
        "id": "UnRiGBfOF8rq"
      },
      "source": [
        "pre_trained_model = InceptionV3(\n",
        "    input_shape=(IMAGE_HEIGHT, IMAGE_WIDTH, 3), weights='imagenet', include_top=False)\n",
        "\n",
        "# Freeze all layers in the pre-trained model to prevent further training\n",
        "for layer in pre_trained_model.layers:\n",
        "  layer.trainable = False\n",
        "\n",
        "last_layer = pre_trained_model.get_layer('mixed7')\n",
        "last_output = last_layer.output\n",
        "\n",
        "# Flatten the output layer to 1 dimension\n",
        "x = layers.Flatten()(last_output)\n",
        "# Add a fully connected layer with 1,024 hidden units and ReLU activation\n",
        "x = layers.Dense(1024, activation='relu')(x)\n",
        "# Add a dropout rate of 0.2\n",
        "x = layers.Dropout(0.2)(x)\n",
        "# Add a final sigmoid layer for classification\n",
        "x = layers.Dense(1, activation='sigmoid')(x)\n",
        "\n",
        "# Configure and compile the model\n",
        "model = Model(pre_trained_model.input, x)\n",
        "model.compile(loss='binary_crossentropy', optimizer='adam', metrics=['acc'])"
      ],
      "execution_count": null,
      "outputs": []
    },
    {
      "cell_type": "code",
      "source": [
        "# Define our example directories and files\n",
        "base_dir = rootdir = \"/content/medical-ai/images/\"\n",
        "train_dir = os.path.join(base_dir, finding, 'train')\n",
        "test_dir = os.path.join(base_dir, finding, 'test')\n",
        "\n",
        "train_pos_dir = os.path.join(train_dir, 'positive')\n",
        "train_neg_dir = os.path.join(train_dir, 'negative')\n",
        "test_pos_dir = os.path.join(test_dir, 'positive')\n",
        "test_neg_dir = os.path.join(test_dir, 'negative')"
      ],
      "metadata": {
        "id": "xby4d2nuqoWK"
      },
      "execution_count": null,
      "outputs": []
    },
    {
      "cell_type": "code",
      "metadata": {
        "id": "Fl9XXARuV_eg"
      },
      "source": [
        "# Add our data-augmentation parameters to ImageDataGenerator on training data\n",
        "train_datagen = ImageDataGenerator(\n",
        "    rescale=1./255,\n",
        "    rotation_range=40,\n",
        "    width_shift_range=0.2,\n",
        "    height_shift_range=0.2,\n",
        "    shear_range=0.2,\n",
        "    zoom_range=0.2,\n",
        "    horizontal_flip=False)\n",
        "\n",
        "# Test data should not be augmented\n",
        "val_datagen = ImageDataGenerator(rescale=1./255)"
      ],
      "execution_count": null,
      "outputs": []
    },
    {
      "cell_type": "code",
      "source": [
        "train_generator = train_datagen.flow_from_directory(\n",
        "        train_dir, # This is the source directory for training images\n",
        "        target_size=(IMAGE_WIDTH, IMAGE_HEIGHT),\n",
        "        batch_size=1, # Number of images per batch\n",
        "        class_mode='binary') # Binary classification (positive or negative)\n",
        "\n",
        "test_generator = val_datagen.flow_from_directory(\n",
        "        test_dir,\n",
        "        target_size=(IMAGE_WIDTH, IMAGE_HEIGHT),\n",
        "        batch_size=1,\n",
        "        class_mode='binary')\n",
        "\n",
        "# Calculate the number of training and testing steps\n",
        "# Multiply the number of positive cases by 2 because there are both positive and negative samples\n",
        "train_steps = len(os.listdir(train_pos_dir)) * 2\n",
        "test_steps = len(os.listdir(test_pos_dir)) * 2"
      ],
      "metadata": {
        "id": "m3Y5r7fnqr4k"
      },
      "execution_count": null,
      "outputs": []
    },
    {
      "cell_type": "markdown",
      "metadata": {
        "id": "qEC1AL7iVRLz"
      },
      "source": [
        "## Run the Model\n",
        "\n",
        "Train on all 80% of the labels, and verify their accuracy on the remaining 20%."
      ]
    },
    {
      "cell_type": "code",
      "metadata": {
        "id": "Blhq2MAUeyGA"
      },
      "source": [
        "history = model.fit(\n",
        "      train_generator,\n",
        "      steps_per_epoch=train_steps,\n",
        "      epochs=20,\n",
        "      validation_data=test_generator,\n",
        "      validation_steps=test_steps,\n",
        "      verbose=2)"
      ],
      "execution_count": null,
      "outputs": []
    },
    {
      "cell_type": "code",
      "metadata": {
        "id": "1FtxcKjJfxL9"
      },
      "source": [
        "# Plot the training and test loss and accuracy to show it conclusively:\n",
        "\n",
        "# Retrieve a list of accuracy results on training and test data\n",
        "# sets for each training epoch\n",
        "acc = history.history['acc']\n",
        "val_acc = history.history['val_acc']\n",
        "\n",
        "# Retrieve a list of list results on training and test data\n",
        "# sets for each training epoch\n",
        "loss = history.history['loss']\n",
        "val_loss = history.history['val_loss']\n",
        "\n",
        "# Get number of epochs\n",
        "epochs = range(len(acc))\n",
        "\n",
        "# Create subplots for accuracy and loss\n",
        "plt.subplot(2,1,1)\n",
        "plt.plot(epochs, acc, label=\"train\") # Plot training accuracy\n",
        "plt.plot(epochs, val_acc, label=\"test\") # Plot test accuracy\n",
        "plt.ylabel(\"Accuracy\")\n",
        "plt.title('Training and Test Accuracy')\n",
        "plt.legend(loc=\"lower right\")\n",
        "\n",
        "plt.subplot(2,1,2)\n",
        "plt.plot(epochs, loss, label=\"train\") # Plot training loss\n",
        "plt.plot(epochs, val_loss, label=\"test\") # Plot test loss\n",
        "plt.xlabel(\"Epochs\")\n",
        "plt.ylabel(\"Loss\")\n",
        "plt.title('Training and Test Loss')\n",
        "plt.legend(loc=\"lower right\")\n",
        "\n",
        "plt.show()"
      ],
      "execution_count": null,
      "outputs": []
    },
    {
      "cell_type": "markdown",
      "metadata": {
        "id": "2ADy7JKjbXQr"
      },
      "source": [
        "## Evaluate Performance"
      ]
    },
    {
      "cell_type": "code",
      "metadata": {
        "id": "1t7bz29ms4aB"
      },
      "source": [
        "# Function to predict the class of an image given its filename\n",
        "def predict_image(filename):\n",
        "  image = Image.open(filename).resize((IMAGE_HEIGHT, IMAGE_WIDTH))\n",
        "  # Convert the image to a NumPy array\n",
        "  image_np = load_image_into_numpy_array(image)\n",
        "  # Normalize the image data\n",
        "  exp = np.true_divide(image_np, 255.0)\n",
        "  # Add an extra dimension to match model input\n",
        "  expanded = np.expand_dims(exp, axis=0)\n",
        "  # Make a prediction and return the result\n",
        "  return model.predict(expanded)[0][0]\n",
        "\n",
        "# Function to display an image and its prediction\n",
        "def show_df_row(row):\n",
        "  image_path = row[\"filepath\"]\n",
        "  image = Image.open(image_path).resize((IMAGE_WIDTH, IMAGE_HEIGHT))\n",
        "  img = load_image_into_numpy_array(image)\n",
        "  exp = np.true_divide(img, 255.0)\n",
        "  expanded = np.expand_dims(exp, axis=0)\n",
        "  pred = model.predict(expanded)[0][0]\n",
        "\n",
        "  # Assign a guess based on the prediction\n",
        "  guess = \"neg\"\n",
        "  if pred > 0.5:\n",
        "    guess = \"pos\"\n",
        "  # Plot the graph\n",
        "  title = \"Image: \"+row[\"filename\"]+\" Label: \"+row[\"label\"]+\" Guess: \"+guess+\" Score: \"+str(pred)\n",
        "  plt.title(title)\n",
        "  plt.imshow(img)\n",
        "  plt.show()\n",
        "  return"
      ],
      "execution_count": null,
      "outputs": []
    },
    {
      "cell_type": "code",
      "source": [
        "results = []\n",
        "# Loop through images in the negative test directory\n",
        "for image in os.listdir(test_neg_dir):\n",
        "  filename = test_neg_dir+\"/\"+image\n",
        "  # Predict the image and get confidence\n",
        "  confidence = predict_image(filename)\n",
        "  # Determine the guess based on confidence\n",
        "  guess = 'pos' if confidence > 0.5 else 'neg'\n",
        "  # Append results to the list\n",
        "  results.append([filename, image, \"neg\", guess, confidence])\n",
        "\n",
        "for image in os.listdir(test_pos_dir):\n",
        "  filename = test_pos_dir+\"/\"+image\n",
        "  confidence = predict_image(filename)\n",
        "  guess = 'pos' if confidence > 0.5 else 'neg'\n",
        "  results.append([filename, image, \"pos\", guess, confidence])\n",
        "\n",
        "# Sort the results based on confidence in descending order\n",
        "sorted_results = sorted(results, key=lambda x: x[4], reverse=True)\n",
        "# Create a DataFrame from the sorted results with specified column names\n",
        "df = pd.DataFrame(data=sorted_results, columns=[\"filepath\",\"filename\",\"label\",\"guess\",\"confidence\"])"
      ],
      "metadata": {
        "id": "OWRIlAWS-xyc"
      },
      "execution_count": null,
      "outputs": []
    },
    {
      "cell_type": "code",
      "source": [
        "df.head()"
      ],
      "metadata": {
        "id": "ExyF1K3jMxzH"
      },
      "execution_count": null,
      "outputs": []
    },
    {
      "cell_type": "code",
      "metadata": {
        "id": "YGd5ltLx2_cM"
      },
      "source": [
        "# Generate a random index within the range of the DataFrame\n",
        "n = random.randint(0, len(df)-1)\n",
        "# Display an example image and its prediction based on the random index\n",
        "show_df_row(df.iloc[n])"
      ],
      "execution_count": null,
      "outputs": []
    },
    {
      "cell_type": "code",
      "metadata": {
        "id": "hotpoGa_YUmj"
      },
      "source": [
        "# Show Table of images\n",
        "df[::5][['filename', 'label',\"guess\",\"confidence\"]]"
      ],
      "execution_count": null,
      "outputs": []
    },
    {
      "cell_type": "code",
      "metadata": {
        "id": "RxNsG158YUaU"
      },
      "source": [
        "#  Show histogram\n",
        "from matplotlib.ticker import FormatStrFormatter\n",
        "\n",
        "# Get confidence scores for positive and negative cases\n",
        "pos = df.loc[df['label'] == \"pos\"][\"confidence\"]\n",
        "neg = df.loc[df['label'] == \"neg\"][\"confidence\"]\n",
        "\n",
        "# Create a figure and axis for the histogram\n",
        "fig, ax = plt.subplots()\n",
        "\n",
        "# Create a histogram with custom settings\n",
        "n, bins, patches = plt.hist([pos,neg], np.arange(0.0, 1.1, 0.1).tolist(), edgecolor='black', linewidth=0.5, density=False, histtype='bar', stacked=True, color=['green', 'red'], label=[finding, 'Negative'])\n",
        "plt.xlabel('Confidence')\n",
        "plt.ylabel('N')\n",
        "plt.xticks(bins)\n",
        "ax.xaxis.set_major_formatter(FormatStrFormatter('%.2f'))\n",
        "plt.title('Confidence Scores for Different Values')\n",
        "plt.legend(loc=\"upper right\", fontsize=16)\n",
        "plt.show()"
      ],
      "execution_count": null,
      "outputs": []
    },
    {
      "cell_type": "code",
      "source": [
        "# create a cutoff point\n",
        "# how to define the cutoff to determine whether someone is positive or not?\n",
        "# You can adjust this value based on your needs\n",
        "cutoff = 0.46 #@param {type:\"slider\", min:0, max:1, step:0.01}"
      ],
      "metadata": {
        "id": "gXm2lUiCpHSd"
      },
      "execution_count": null,
      "outputs": []
    },
    {
      "cell_type": "code",
      "metadata": {
        "id": "6Jk5kI74-OWZ"
      },
      "source": [
        "# Define a function to create a histogram with a specified cutoff value\n",
        "def create_with_cutoff(cutoff):\n",
        "  __, ax = plt.subplots()\n",
        "\n",
        "  # Calculate True Positives (TP), False Positives (FP), False Negatives (FN), and True Negatives (TN)\n",
        "  TP = df.loc[(df['label'] == \"pos\") & (df[\"confidence\"] > cutoff)][\"confidence\"]\n",
        "  FP = df.loc[(df['label'] == \"neg\") & (df[\"confidence\"] > cutoff)][\"confidence\"]\n",
        "  FN = df.loc[(df['label'] == \"pos\") & (df[\"confidence\"] < cutoff)][\"confidence\"]\n",
        "  TN = df.loc[(df['label'] == \"neg\") & (df[\"confidence\"] < cutoff)][\"confidence\"]\n",
        "\n",
        "  # Create a histogram to visualize TP, FP, TN, and FN\n",
        "  plt.hist([TP,FP,TN,FN], np.arange(0.0, 1.1, 0.1).tolist(), \\\n",
        "           edgecolor='black', linewidth=0.5, density=False, histtype='bar', \\\n",
        "           stacked=True, color=['limegreen','forestgreen','orangered','salmon'], \\\n",
        "           label=['TP','FP','TN','FN'])\n",
        "  plt.xlabel('Confidence')\n",
        "  plt.ylabel('N')\n",
        "  plt.xticks(bins)\n",
        "  ax.xaxis.set_major_formatter(FormatStrFormatter('%.2f'))\n",
        "  plt.title('Confidence scores for different values')\n",
        "\n",
        "  # Add a vertical dashed line to indicate the cutoff value\n",
        "  plt.axvline(cutoff, color='k', linestyle='dashed', linewidth=2)\n",
        "  plt.legend(loc=\"upper right\", fontsize=16)\n",
        "\n",
        "  # Calculate sensitivity and specificity and display statistics as text\n",
        "  sens = round(len(TP)/(len(TP)+len(FN)),2)\n",
        "  spec = round(len(TN)/(len(TN)+len(FP)),2)\n",
        "  stats = \"sensitivity: \"+str(sens)+\"\\n\"+\"specificity: \"+str(spec)+\"\\n\\n\"+\"TP: \"+str(len(TP))+\"\\n\"+\"FP: \"+str(len(FP))+\"\\n\"+\"TN: \"+str(len(TN))+\"\\n\"+\"FN: \"+str(len(FN))\n",
        "  plt.text(0.05, 0.05, stats, fontsize=14, transform=ax.transAxes)\n",
        "  plt.show()\n",
        "\n",
        "# Call the function with the specified cutoff value\n",
        "create_with_cutoff(cutoff)"
      ],
      "execution_count": null,
      "outputs": []
    },
    {
      "cell_type": "code",
      "metadata": {
        "id": "iAeJMRDNyy9h"
      },
      "source": [
        "# Define a function to create the ROC curve and calculate AUC\n",
        "def create_auc_curve(classifications):\n",
        "  squares = {}\n",
        "\n",
        "  # Loop through each classification entry\n",
        "  for x in classifications:\n",
        "    conf = x[4]\n",
        "    TP, FP, TN, FN = 0, 0, 0, 0\n",
        "\n",
        "    # Calculate TP, FP, TN, and FN for each confidence threshold\n",
        "    for row in classifications:\n",
        "      assert (row[2] == \"neg\" or row[2] == \"pos\")\n",
        "      if row[2] == \"neg\":\n",
        "        if float(row[4]) < conf: TN += 1\n",
        "        else: FP += 1\n",
        "      else:\n",
        "        if float(row[4]) > conf: TP += 1\n",
        "        else: FN += 1\n",
        "    squares[conf] = [TP, FP, TN, FN]\n",
        "\n",
        "  # Calculate sensitivity and specificity for each confidence threshold\n",
        "  sens_spec = {}\n",
        "  for entry in squares:\n",
        "    sens = squares[entry][0] / float(squares[entry][0] + squares[entry][3])\n",
        "    spec = squares[entry][2] / float(squares[entry][2] + squares[entry][1])\n",
        "    sens_spec[entry] = (1-spec, sens)\n",
        "  return squares, sens_spec\n",
        "\n",
        "# Call the function to create the ROC curve and calculate AUC\n",
        "squares, sens_spec = create_auc_curve(sorted_results)\n",
        "\n",
        "# Extract sensitivity and 1-specificity values for plotting the ROC curve\n",
        "x = []\n",
        "y = []\n",
        "for point in sens_spec.keys():\n",
        "  x.append(sens_spec[point][0])\n",
        "  y.append(sens_spec[point][1])\n",
        "\n",
        "# Calculate the Area Under the Curve (AUC) using sklearn.metrics.auc\n",
        "auc = sklearn.metrics.auc(x, y)\n",
        "\n",
        "# Create and display the ROC curve\n",
        "plt.figure()\n",
        "lw = 2\n",
        "plt.plot(x, y, color='darkorange', lw=lw, label='ROC curve (area = %0.3f)' % auc)\n",
        "plt.plot([0, 1], [0, 1], color='navy', lw=lw, linestyle='--')\n",
        "plt.xlim([0.0, 1.0])\n",
        "plt.ylim([0.0, 1.0])\n",
        "plt.ylabel('Sensitivity')\n",
        "plt.xlabel('1-specificity')\n",
        "plt.title('Receiver Operating Characteristic')\n",
        "plt.legend(loc=\"lower right\", fontsize=20)\n",
        "plt.show()"
      ],
      "execution_count": null,
      "outputs": []
    },
    {
      "cell_type": "code",
      "source": [
        "# Save model\n",
        "model.save('/content/export/'+finding)\n",
        "!zip -r /content/{finding}.zip /content/export/{finding}"
      ],
      "metadata": {
        "id": "k2TMpIm35JiT"
      },
      "execution_count": null,
      "outputs": []
    }
  ]
}